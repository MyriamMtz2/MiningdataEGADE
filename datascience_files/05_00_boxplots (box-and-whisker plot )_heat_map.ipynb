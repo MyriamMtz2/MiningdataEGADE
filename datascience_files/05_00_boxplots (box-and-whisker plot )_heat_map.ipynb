{
 "cells": [
  {
   "cell_type": "markdown",
   "id": "b99f8f66",
   "metadata": {},
   "source": [
    "# More on  Box and whisker plots \n",
    "\n",
    "\n",
    "[Gamma Distribution](https://www.probabilitycourse.com/chapter4/4_2_4_Gamma_distribution.php)\n",
    "\n",
    "Specifically, if $n \\in \\{1,2,3,...\\}$ then: \n",
    "$$Γ(n)=(n−1)!$$\n",
    "\n",
    "More generally, for any positive real number $α$, $Γ(α)$  is defined as\n",
    "\n",
    "$$Γ(α)=\\int_{0}^{\\infty}x^{α−1}e^{−x}dx,\\qquad \\text{for } α>0$$"
   ]
  },
  {
   "cell_type": "code",
   "execution_count": 1,
   "id": "ac134bb9",
   "metadata": {},
   "outputs": [
    {
     "data": {
      "text/html": [
       "<div>\n",
       "<style scoped>\n",
       "    .dataframe tbody tr th:only-of-type {\n",
       "        vertical-align: middle;\n",
       "    }\n",
       "\n",
       "    .dataframe tbody tr th {\n",
       "        vertical-align: top;\n",
       "    }\n",
       "\n",
       "    .dataframe thead th {\n",
       "        text-align: right;\n",
       "    }\n",
       "</style>\n",
       "<table border=\"1\" class=\"dataframe\">\n",
       "  <thead>\n",
       "    <tr style=\"text-align: right;\">\n",
       "      <th></th>\n",
       "      <th>normal</th>\n",
       "      <th>random</th>\n",
       "      <th>gamma</th>\n",
       "    </tr>\n",
       "  </thead>\n",
       "  <tbody>\n",
       "    <tr>\n",
       "      <th>0</th>\n",
       "      <td>2.297515</td>\n",
       "      <td>0.765853</td>\n",
       "      <td>0.980118</td>\n",
       "    </tr>\n",
       "    <tr>\n",
       "      <th>1</th>\n",
       "      <td>-0.197133</td>\n",
       "      <td>0.606573</td>\n",
       "      <td>1.510253</td>\n",
       "    </tr>\n",
       "    <tr>\n",
       "      <th>2</th>\n",
       "      <td>-0.139689</td>\n",
       "      <td>0.114243</td>\n",
       "      <td>1.241225</td>\n",
       "    </tr>\n",
       "    <tr>\n",
       "      <th>3</th>\n",
       "      <td>-1.063264</td>\n",
       "      <td>0.288087</td>\n",
       "      <td>0.657242</td>\n",
       "    </tr>\n",
       "    <tr>\n",
       "      <th>4</th>\n",
       "      <td>0.500388</td>\n",
       "      <td>0.040994</td>\n",
       "      <td>0.604987</td>\n",
       "    </tr>\n",
       "  </tbody>\n",
       "</table>\n",
       "</div>"
      ],
      "text/plain": [
       "     normal    random     gamma\n",
       "0  2.297515  0.765853  0.980118\n",
       "1 -0.197133  0.606573  1.510253\n",
       "2 -0.139689  0.114243  1.241225\n",
       "3 -1.063264  0.288087  0.657242\n",
       "4  0.500388  0.040994  0.604987"
      ]
     },
     "execution_count": 1,
     "metadata": {},
     "output_type": "execute_result"
    }
   ],
   "source": [
    "#if problem with matplotlib\n",
    "#import sys\n",
    "#!{sys.executable} -m pip install --user matplotlib\n",
    "### in jupyter notebook\n",
    "\n",
    "\n",
    "import matplotlib.pyplot as plt\n",
    "import pandas as pd\n",
    "import numpy as np\n",
    "\n",
    "normal_sample = np.random.normal(loc=0.0, \n",
    "                                 scale=1.0, \n",
    "                                 size=10000)\n",
    "\n",
    "random_sample = np.random.random(size=10000)\n",
    "gama_sample   = np.random.gamma(2, size=10000)\n",
    "\n",
    "df = pd.DataFrame({'normal': normal_sample,\n",
    "                   'random': random_sample,\n",
    "                   'gamma': gama_sample})\n",
    "\n",
    "df.head()"
   ]
  },
  {
   "cell_type": "code",
   "execution_count": 3,
   "id": "7e734515",
   "metadata": {},
   "outputs": [
    {
     "data": {
      "text/html": [
       "<div>\n",
       "<style scoped>\n",
       "    .dataframe tbody tr th:only-of-type {\n",
       "        vertical-align: middle;\n",
       "    }\n",
       "\n",
       "    .dataframe tbody tr th {\n",
       "        vertical-align: top;\n",
       "    }\n",
       "\n",
       "    .dataframe thead th {\n",
       "        text-align: right;\n",
       "    }\n",
       "</style>\n",
       "<table border=\"1\" class=\"dataframe\">\n",
       "  <thead>\n",
       "    <tr style=\"text-align: right;\">\n",
       "      <th></th>\n",
       "      <th>normal</th>\n",
       "      <th>random</th>\n",
       "      <th>gamma</th>\n",
       "    </tr>\n",
       "  </thead>\n",
       "  <tbody>\n",
       "    <tr>\n",
       "      <th>count</th>\n",
       "      <td>10000.000000</td>\n",
       "      <td>10000.000000</td>\n",
       "      <td>10000.000000</td>\n",
       "    </tr>\n",
       "    <tr>\n",
       "      <th>mean</th>\n",
       "      <td>0.004237</td>\n",
       "      <td>0.499863</td>\n",
       "      <td>1.993173</td>\n",
       "    </tr>\n",
       "    <tr>\n",
       "      <th>std</th>\n",
       "      <td>1.001137</td>\n",
       "      <td>0.290297</td>\n",
       "      <td>1.412836</td>\n",
       "    </tr>\n",
       "    <tr>\n",
       "      <th>min</th>\n",
       "      <td>-3.557961</td>\n",
       "      <td>0.000008</td>\n",
       "      <td>0.005805</td>\n",
       "    </tr>\n",
       "    <tr>\n",
       "      <th>25%</th>\n",
       "      <td>-0.678333</td>\n",
       "      <td>0.247969</td>\n",
       "      <td>0.954156</td>\n",
       "    </tr>\n",
       "    <tr>\n",
       "      <th>50%</th>\n",
       "      <td>0.006046</td>\n",
       "      <td>0.499350</td>\n",
       "      <td>1.663800</td>\n",
       "    </tr>\n",
       "    <tr>\n",
       "      <th>75%</th>\n",
       "      <td>0.689459</td>\n",
       "      <td>0.752439</td>\n",
       "      <td>2.656748</td>\n",
       "    </tr>\n",
       "    <tr>\n",
       "      <th>max</th>\n",
       "      <td>3.816673</td>\n",
       "      <td>0.999919</td>\n",
       "      <td>13.030082</td>\n",
       "    </tr>\n",
       "  </tbody>\n",
       "</table>\n",
       "</div>"
      ],
      "text/plain": [
       "             normal        random         gamma\n",
       "count  10000.000000  10000.000000  10000.000000\n",
       "mean       0.004237      0.499863      1.993173\n",
       "std        1.001137      0.290297      1.412836\n",
       "min       -3.557961      0.000008      0.005805\n",
       "25%       -0.678333      0.247969      0.954156\n",
       "50%        0.006046      0.499350      1.663800\n",
       "75%        0.689459      0.752439      2.656748\n",
       "max        3.816673      0.999919     13.030082"
      ]
     },
     "execution_count": 3,
     "metadata": {},
     "output_type": "execute_result"
    }
   ],
   "source": [
    "df.describe()\n",
    "# print(normal_sample.min())"
   ]
  },
  {
   "cell_type": "code",
   "execution_count": 5,
   "id": "bfaea5d7",
   "metadata": {},
   "outputs": [
    {
     "data": {
      "image/png": "[encoded data removed]",
      "text/plain": [
       "<Figure size 432x288 with 1 Axes>"
      ]
     },
     "metadata": {
      "needs_background": "light"
     },
     "output_type": "display_data"
    }
   ],
   "source": [
    "plt.figure()\n",
    "plt.boxplot(df['normal'], \n",
    "            whis=(0, 100)\n",
    "           )\n",
    "\n",
    "plt.show()"
   ]
  },
  {
   "cell_type": "code",
   "execution_count": 6,
   "id": "ea13b684",
   "metadata": {},
   "outputs": [
    {
     "data": {
      "image/png": "[encoded data removed]",
      "text/plain": [
       "<Figure size 432x288 with 1 Axes>"
      ]
     },
     "metadata": {
      "needs_background": "light"
     },
     "output_type": "display_data"
    }
   ],
   "source": [
    "plt.figure()\n",
    "a_boxplot = plt.boxplot(df['normal'], whis=(0, 100))"
   ]
  },
  {
   "cell_type": "markdown",
   "id": "c52db7a6",
   "metadata": {},
   "source": [
    "*  `cla()`   # Clear axis\n",
    "*  `clf()`   # Clear figure\n",
    "*  `close()` # Close a figure window"
   ]
  },
  {
   "cell_type": "code",
   "execution_count": 7,
   "id": "82eacbd7",
   "metadata": {},
   "outputs": [
    {
     "data": {
      "image/png": "[encoded data removed]",
      "text/plain": [
       "<Figure size 432x288 with 1 Axes>"
      ]
     },
     "metadata": {
      "needs_background": "light"
     },
     "output_type": "display_data"
    }
   ],
   "source": [
    "plt.clf()\n",
    "all_three = plt.boxplot([df['normal'], df['random'], df['gamma']], \n",
    "                        whis=(0, 100))"
   ]
  },
  {
   "cell_type": "code",
   "execution_count": 8,
   "id": "56cac6b3",
   "metadata": {},
   "outputs": [
    {
     "data": {
      "image/png": "[encoded data removed]",
      "text/plain": [
       "<Figure size 432x288 with 1 Axes>"
      ]
     },
     "metadata": {
      "needs_background": "light"
     },
     "output_type": "display_data"
    }
   ],
   "source": [
    "plt.clf()\n",
    "gama = plt.hist(df['gamma'], bins=100)"
   ]
  },
  {
   "cell_type": "markdown",
   "id": "75aba8af",
   "metadata": {},
   "source": [
    "### One figure inside other using `mpl_toolkits`"
   ]
  },
  {
   "cell_type": "code",
   "execution_count": 9,
   "id": "93a8b26d",
   "metadata": {},
   "outputs": [
    {
     "data": {
      "image/png": "[encoded data removed]",
      "text/plain": [
       "<Figure size 432x288 with 2 Axes>"
      ]
     },
     "metadata": {
      "needs_background": "light"
     },
     "output_type": "display_data"
    }
   ],
   "source": [
    "import mpl_toolkits.axes_grid1.inset_locator as mpl_il\n",
    "\n",
    "plt.figure()\n",
    "plt.boxplot([df['normal'], \n",
    "             df['random'], \n",
    "             df['gamma']\n",
    "            ],\n",
    "            whis=(0, 100)\n",
    "           )\n",
    "\n",
    "ax2 = mpl_il.inset_axes(plt.gca(), \n",
    "                        width='60%', \n",
    "                        height='40%', \n",
    "                        loc=2) #gca - Get Current Axis \n",
    "ax2.hist(df['gamma'], \n",
    "         bins=100\n",
    "        )\n",
    "\n",
    "ax2.margins(x=0.5)\n",
    "\n",
    "plt.show()"
   ]
  },
  {
   "cell_type": "code",
   "execution_count": 10,
   "id": "0240d70e",
   "metadata": {},
   "outputs": [
    {
     "data": {
      "image/png": "[encoded data removed]",
      "text/plain": [
       "<Figure size 432x288 with 2 Axes>"
      ]
     },
     "metadata": {
      "needs_background": "light"
     },
     "output_type": "display_data"
    }
   ],
   "source": [
    "plt.clf()\n",
    "plt.boxplot([df['normal'], df['random'], df['gamma']],\n",
    "            whis=(0, 100))\n",
    "\n",
    "ax2 = mpl_il.inset_axes(plt.gca(), \n",
    "                        width='60%', \n",
    "                        height='40%', \n",
    "                        loc=2) #gca - Get Current Axis ; loc:1-10. \n",
    "ax2.hist(df['gamma'], \n",
    "         bins=100\n",
    "        )\n",
    "\n",
    "ax2.margins(x=0.5)\n",
    "\n",
    "#changing inset_axes to right \n",
    "ax2.yaxis.tick_right()\n",
    "\n",
    "plt.show()"
   ]
  },
  {
   "cell_type": "code",
   "execution_count": null,
   "id": "60fbb135",
   "metadata": {},
   "outputs": [],
   "source": [
    "plt.clf()\n",
    "outliers = plt.boxplot([df['normal'], df['random'], df['gamma']]) #not using whis comand "
   ]
  },
  {
   "cell_type": "markdown",
   "id": "74d08a66",
   "metadata": {},
   "source": [
    "### 2-D histogram (heat-map)"
   ]
  },
  {
   "cell_type": "code",
   "execution_count": 11,
   "id": "fed8ae75",
   "metadata": {},
   "outputs": [
    {
     "data": {
      "image/png": "[encoded data removed]",
      "text/plain": [
       "<Figure size 432x288 with 1 Axes>"
      ]
     },
     "metadata": {
      "needs_background": "light"
     },
     "output_type": "display_data"
    }
   ],
   "source": [
    "plt.figure()\n",
    "X = np.random.random(size=10000)\n",
    "Y = np.random.normal(loc=10.0, scale=0.5, size=10000)\n",
    "#print(X, Y)\n",
    "_ = plt.hist2d(X,Y, bins = 25)\n",
    "#plt.show()"
   ]
  },
  {
   "cell_type": "code",
   "execution_count": 12,
   "id": "4fd17ae5",
   "metadata": {},
   "outputs": [
    {
     "name": "stdout",
     "output_type": "stream",
     "text": [
      "[0.74252492 0.71069378 0.53648227 ... 0.96718838 0.2301779  0.42256497] [ 9.63605721  9.53384376  9.96464227 ...  9.73567388  9.44487659\n",
      " 10.37202569]\n"
     ]
    },
    {
     "data": {
      "text/plain": [
       "<matplotlib.colorbar.Colorbar at 0x7fd8fb553ee0>"
      ]
     },
     "execution_count": 12,
     "metadata": {},
     "output_type": "execute_result"
    },
    {
     "data": {
      "image/png": "[encoded data removed]",
      "text/plain": [
       "<Figure size 432x288 with 2 Axes>"
      ]
     },
     "metadata": {
      "needs_background": "light"
     },
     "output_type": "display_data"
    }
   ],
   "source": [
    "plt.figure()\n",
    "X = np.random.random(size=10000)\n",
    "Y = np.random.normal(loc=10.0, scale=0.5, size=10000)\n",
    "print(X, Y)\n",
    "_ = plt.hist2d(X,Y, bins = 25)\n",
    "#_x = plt.hist2d(X,Y, bins = 125)\n",
    "plt.colorbar()\n",
    "#plt.show()"
   ]
  },
  {
   "cell_type": "code",
   "execution_count": null,
   "id": "71e0f8f8",
   "metadata": {},
   "outputs": [],
   "source": []
  }
 ],
 "metadata": {
  "kernelspec": {
   "display_name": "Python 3 (ipykernel)",
   "language": "python",
   "name": "python3"
  },
  "language_info": {
   "codemirror_mode": {
    "name": "ipython",
    "version": 3
   },
   "file_extension": ".py",
   "mimetype": "text/x-python",
   "name": "python",
   "nbconvert_exporter": "python",
   "pygments_lexer": "ipython3",
   "version": "3.9.5"
  }
 },
 "nbformat": 4,
 "nbformat_minor": 5
}
